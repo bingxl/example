{
  "nbformat": 4,
  "nbformat_minor": 0,
  "metadata": {
    "language_info": {
      "name": "python",
      "codemirror_mode": {
        "name": "ipython",
        "version": 3
      },
      "version": "3.7.0-final"
    },
    "orig_nbformat": 2,
    "file_extension": ".py",
    "mimetype": "text/x-python",
    "name": "python",
    "npconvert_exporter": "python",
    "pygments_lexer": "ipython3",
    "version": 3,
    "kernelspec": {
      "name": "python37064bit768efe16ff7b40448d6b4e5fef740258",
      "display_name": "Python 3.7.0 64-bit"
    },
    "colab": {
      "name": "tensorflow-quickstart.ipynb",
      "provenance": []
    },
    "accelerator": "TPU"
  },
  "cells": [
    {
      "cell_type": "code",
      "metadata": {
        "id": "XzxuBHCVLia7",
        "colab_type": "code",
        "colab": {
          "base_uri": "https://localhost:8080/",
          "height": 50
        },
        "outputId": "27226aea-30fb-4d94-868b-fd83f38656c4"
      },
      "source": [
        "%tensorflow_version 2.x\n",
        "import tensorflow as tf\n",
        "from tensorflow.keras import layers, datasets, models\n",
        "print(tf.__version__)"
      ],
      "execution_count": 1,
      "outputs": [
        {
          "output_type": "stream",
          "text": [
            "TensorFlow 2.x selected.\n",
            "2.1.0\n"
          ],
          "name": "stdout"
        }
      ]
    },
    {
      "cell_type": "code",
      "metadata": {
        "id": "mRMFgrmyPbcf",
        "colab_type": "code",
        "colab": {}
      },
      "source": [
        "mnist = datasets.mnist\n",
        "(trains, labels), (tests, test_labels) = mnist.load_data()\n",
        "\n",
        "# 数据归一化处理\n",
        "trains, tests = trains / 255.0, tests / 255.0"
      ],
      "execution_count": 0,
      "outputs": []
    },
    {
      "cell_type": "code",
      "metadata": {
        "id": "2rRe4ps0LibC",
        "colab_type": "code",
        "colab": {}
      },
      "source": [
        "def train(trains, labels, epochs=5):\n",
        "  model = models.Sequential([\n",
        "      layers.Flatten(input_shape=(trains.shape[1], trains.shape[2])),\n",
        "      layers.Dense(128, activation='relu'),\n",
        "      layers.Dropout(0.2),\n",
        "      # layers.Dense(246, activation='relu'),\n",
        "      layers.Dense(10, activation='softmax')\n",
        "  ])\n",
        "\n",
        "  model.compile(\n",
        "      optimizer='adam',\n",
        "      loss='sparse_categorical_crossentropy',\n",
        "      metrics=['accuracy']\n",
        "  )\n",
        "  model.fit(trains, labels, epochs=epochs)\n",
        "  return model\n"
      ],
      "execution_count": 0,
      "outputs": []
    },
    {
      "cell_type": "code",
      "metadata": {
        "id": "GwEVqZ2hLibF",
        "colab_type": "code",
        "colab": {
          "base_uri": "https://localhost:8080/",
          "height": 235
        },
        "outputId": "eb029edb-261c-43eb-d606-1af5d3c5dd49"
      },
      "source": [
        "train(trains, labels).evaluate(tests, test_labels, verbose=2)"
      ],
      "execution_count": 12,
      "outputs": [
        {
          "output_type": "stream",
          "text": [
            "Train on 60000 samples\n",
            "Epoch 1/5\n",
            "60000/60000 [==============================] - 5s 82us/sample - loss: 0.3002 - accuracy: 0.9129\n",
            "Epoch 2/5\n",
            "60000/60000 [==============================] - 5s 76us/sample - loss: 0.1480 - accuracy: 0.9548\n",
            "Epoch 3/5\n",
            "60000/60000 [==============================] - 4s 73us/sample - loss: 0.1090 - accuracy: 0.9672\n",
            "Epoch 4/5\n",
            "60000/60000 [==============================] - 4s 73us/sample - loss: 0.0912 - accuracy: 0.9720\n",
            "Epoch 5/5\n",
            "60000/60000 [==============================] - 4s 72us/sample - loss: 0.0791 - accuracy: 0.9754\n",
            "10000/10000 - 0s - loss: 0.0782 - accuracy: 0.9760\n"
          ],
          "name": "stdout"
        },
        {
          "output_type": "execute_result",
          "data": {
            "text/plain": [
              "[0.07817549986985978, 0.976]"
            ]
          },
          "metadata": {
            "tags": []
          },
          "execution_count": 12
        }
      ]
    },
    {
      "cell_type": "code",
      "metadata": {
        "id": "iwsp6weXQ4xI",
        "colab_type": "code",
        "colab": {
          "base_uri": "https://localhost:8080/",
          "height": 739
        },
        "outputId": "c3e684a7-8c56-44df-f609-f2da74698e1a"
      },
      "source": [
        "(fashion_trains, fashion_labels), (fashion_test, fashion_test_labels) = datasets.fashion_mnist.load_data()\n",
        "train(fashion_trains / 255.0, fashion_labels, epochs=20).evaluate(fashion_test / 255.0, fashion_test_labels, verbose=2)"
      ],
      "execution_count": 14,
      "outputs": [
        {
          "output_type": "stream",
          "text": [
            "Train on 60000 samples\n",
            "Epoch 1/20\n",
            "60000/60000 [==============================] - 5s 76us/sample - loss: 0.5315 - accuracy: 0.8101\n",
            "Epoch 2/20\n",
            "60000/60000 [==============================] - 4s 71us/sample - loss: 0.4023 - accuracy: 0.8540\n",
            "Epoch 3/20\n",
            "60000/60000 [==============================] - 4s 72us/sample - loss: 0.3679 - accuracy: 0.8658\n",
            "Epoch 4/20\n",
            "60000/60000 [==============================] - 4s 71us/sample - loss: 0.3431 - accuracy: 0.8741\n",
            "Epoch 5/20\n",
            "60000/60000 [==============================] - 4s 72us/sample - loss: 0.3300 - accuracy: 0.8782\n",
            "Epoch 6/20\n",
            "60000/60000 [==============================] - 4s 72us/sample - loss: 0.3174 - accuracy: 0.8829\n",
            "Epoch 7/20\n",
            "60000/60000 [==============================] - 4s 72us/sample - loss: 0.3043 - accuracy: 0.8869\n",
            "Epoch 8/20\n",
            "60000/60000 [==============================] - 4s 72us/sample - loss: 0.2985 - accuracy: 0.8886\n",
            "Epoch 9/20\n",
            "60000/60000 [==============================] - 4s 72us/sample - loss: 0.2901 - accuracy: 0.8913\n",
            "Epoch 10/20\n",
            "60000/60000 [==============================] - 4s 73us/sample - loss: 0.2834 - accuracy: 0.8942\n",
            "Epoch 11/20\n",
            "60000/60000 [==============================] - 4s 72us/sample - loss: 0.2799 - accuracy: 0.8953\n",
            "Epoch 12/20\n",
            "60000/60000 [==============================] - 4s 72us/sample - loss: 0.2708 - accuracy: 0.8976\n",
            "Epoch 13/20\n",
            "60000/60000 [==============================] - 4s 72us/sample - loss: 0.2663 - accuracy: 0.9001\n",
            "Epoch 14/20\n",
            "60000/60000 [==============================] - 4s 72us/sample - loss: 0.2628 - accuracy: 0.9012\n",
            "Epoch 15/20\n",
            "60000/60000 [==============================] - 4s 73us/sample - loss: 0.2547 - accuracy: 0.9040\n",
            "Epoch 16/20\n",
            "60000/60000 [==============================] - 4s 72us/sample - loss: 0.2515 - accuracy: 0.9045\n",
            "Epoch 17/20\n",
            "60000/60000 [==============================] - 4s 73us/sample - loss: 0.2472 - accuracy: 0.9075\n",
            "Epoch 18/20\n",
            "60000/60000 [==============================] - 4s 72us/sample - loss: 0.2439 - accuracy: 0.9086\n",
            "Epoch 19/20\n",
            "60000/60000 [==============================] - 4s 72us/sample - loss: 0.2404 - accuracy: 0.9093\n",
            "Epoch 20/20\n",
            "60000/60000 [==============================] - 4s 72us/sample - loss: 0.2373 - accuracy: 0.9111\n",
            "10000/10000 - 0s - loss: 0.3262 - accuracy: 0.8884\n"
          ],
          "name": "stdout"
        },
        {
          "output_type": "execute_result",
          "data": {
            "text/plain": [
              "[0.32623117711544036, 0.8884]"
            ]
          },
          "metadata": {
            "tags": []
          },
          "execution_count": 14
        }
      ]
    }
  ]
}