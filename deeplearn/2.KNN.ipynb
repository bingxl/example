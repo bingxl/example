{
  "nbformat": 4,
  "nbformat_minor": 0,
  "metadata": {
    "file_extension": ".py",
    "kernelspec": {
      "name": "python3",
      "display_name": "Python 3"
    },
    "language_info": {
      "codemirror_mode": {
        "name": "ipython",
        "version": 3
      },
      "file_extension": ".py",
      "mimetype": "text/x-python",
      "name": "python",
      "nbconvert_exporter": "python",
      "pygments_lexer": "ipython3",
      "version": "3.7.0"
    },
    "mimetype": "text/x-python",
    "name": "python",
    "npconvert_exporter": "python",
    "pygments_lexer": "ipython3",
    "version": 3,
    "colab": {
      "name": "2.KNN.ipynb",
      "provenance": [],
      "toc_visible": true,
      "include_colab_link": true
    },
    "accelerator": "GPU"
  },
  "cells": [
    {
      "cell_type": "markdown",
      "metadata": {
        "id": "view-in-github",
        "colab_type": "text"
      },
      "source": [
        "<a href=\"https://colab.research.google.com/github/bingxl/example/blob/master/deeplearn/2.KNN.ipynb\" target=\"_parent\"><img src=\"https://colab.research.google.com/assets/colab-badge.svg\" alt=\"Open In Colab\"/></a>"
      ]
    },
    {
      "cell_type": "markdown",
      "metadata": {
        "id": "2D9FDX7GZhxq",
        "colab_type": "text"
      },
      "source": [
        "KNN K-最近邻算法，在前K个最近样本中选择最近的占比最高的类别作为预测类别。\n",
        "计算逻辑：\n",
        "1. 给定测定对象，计算它与训练集中每个对象的距离；\n",
        "2. 圈定距离最近的k个训练对象，作为测试对象的邻居；\n",
        "3. 根据k个近邻对象所属的类别找到占比最高的哪个类别作为测试对象的测试类别；\n",
        "\n",
        "准确度影响因素：距离的计算和K值的选择\n",
        "\n"
      ]
    },
    {
      "cell_type": "code",
      "metadata": {
        "id": "OdqkOdwBZhxs",
        "colab_type": "code",
        "outputId": "02b703da-1139-4ef3-e248-2833e8e8aaee",
        "colab": {
          "base_uri": "https://localhost:8080/",
          "height": 34
        }
      },
      "source": [
        "%tensorflow_version 2.x\n",
        "import numpy as np\n",
        "import matplotlib.pyplot as plt\n",
        "import tensorflow as tf\n",
        "from tensorflow import keras\n",
        "import operator\n",
        "from functools import reduce\n",
        "%matplotlib inline"
      ],
      "execution_count": 0,
      "outputs": [
        {
          "output_type": "stream",
          "text": [
            "TensorFlow 2.x selected.\n"
          ],
          "name": "stdout"
        }
      ]
    },
    {
      "cell_type": "code",
      "metadata": {
        "id": "ZiC095Z7Zhxv",
        "colab_type": "code",
        "outputId": "169b3daa-5acf-432e-f709-9f52c71e3d67",
        "colab": {
          "base_uri": "https://localhost:8080/",
          "height": 265
        }
      },
      "source": [
        "def createDataSet():\n",
        "    group = np.array([[1.0,2.0],[1.2,0.1],[0.1,1.4],[0.3,3.5],[1.1,1.0],[0.5,1.5]])\n",
        "    labels = np.array(['A','A','B','B','A','B'])\n",
        "    return group, labels\n",
        "\n",
        "group, labels = createDataSet()\n",
        "plt.scatter(group[labels=='A', 0], group[labels=='A', 1], color='r', marker='*')\n",
        "plt.scatter(group[labels=='B', 0], group[labels=='B', 1], color='g', marker='+')\n",
        "plt.show()"
      ],
      "execution_count": 0,
      "outputs": [
        {
          "output_type": "display_data",
          "data": {
            "image/png": "[encoded data removed]",
            "text/plain": [
              "<Figure size 432x288 with 1 Axes>"
            ]
          },
          "metadata": {
            "tags": []
          }
        }
      ]
    },
    {
      "cell_type": "code",
      "metadata": {
        "id": "h2sXOAH1Zhxz",
        "colab_type": "code",
        "colab": {}
      },
      "source": [
        "def kNN_classify(k, dis, X_train, x_train, Y_test):\n",
        "    assert dis == 'E' or dis == 'M', 'dis must E or M, E 欧式距离， M曼哈顿距离'\n",
        "    num_test = Y_test.shape[0]\n",
        "    \n",
        "    labellist = []\n",
        "    for i in range(num_test):\n",
        "        distances = []\n",
        "        # np.tile(y, (d1,d2)) 对y进行重复，（d1，d2）为对应维度上重复的次数        \n",
        "        if dis == 'E':\n",
        "            # 欧式距离\n",
        "            distances = np.sqrt(np.sum(((X_train - np.tile(Y_test[i], (X_train.shape[0],1))) ** 2), axis=1))\n",
        "        else:\n",
        "            # 曼哈顿距离\n",
        "            distances = np.sum(np.absolute(X_train - np.tile(Y_test[i], (X_train.shape[0],1))), axis=1)\n",
        "        \n",
        "        nearest_k = np.argsort(distances)\n",
        "        topK = nearest_k[:k]\n",
        "        classCount = {}\n",
        "        for i in topK:\n",
        "            classCount[x_train[i]] = classCount.get(x_train[i], 0) + 1\n",
        "            pass\n",
        "        sortedClassCount = sorted(classCount.items(), key=operator.itemgetter(1), reverse=True)\n",
        "        labellist.append(sortedClassCount[0][0])\n",
        "        pass\n",
        "    return np.array(labellist)\n",
        "    \n",
        " \n",
        "            "
      ],
      "execution_count": 0,
      "outputs": []
    },
    {
      "cell_type": "code",
      "metadata": {
        "id": "mlvaGDS9Zhx2",
        "colab_type": "code",
        "outputId": "28479157-a458-482f-e334-99c6578372f9",
        "colab": {
          "base_uri": "https://localhost:8080/",
          "height": 50
        }
      },
      "source": [
        "y = np.array([[1.0, 2.1], [0.1, 2.0]])\n",
        "print(kNN_classify(1, 'E', group, labels, y))\n",
        "print(kNN_classify(1, 'M', group, labels, y))\n"
      ],
      "execution_count": 0,
      "outputs": [
        {
          "output_type": "stream",
          "text": [
            "['A' 'B']\n",
            "['A' 'B']\n"
          ],
          "name": "stdout"
        }
      ]
    },
    {
      "cell_type": "code",
      "metadata": {
        "id": "R0euKQIsZhx4",
        "colab_type": "code",
        "outputId": "1640c706-cdc9-4123-e614-5b05bd11e69c",
        "colab": {
          "base_uri": "https://localhost:8080/",
          "height": 50
        }
      },
      "source": [
        "mnist = keras.datasets.mnist\n",
        "\n",
        "(train_images, train_labels), (test_images, test_labels) = mnist.load_data()"
      ],
      "execution_count": 0,
      "outputs": [
        {
          "output_type": "stream",
          "text": [
            "Downloading data from https://storage.googleapis.com/tensorflow/tf-keras-datasets/mnist.npz\n",
            "11493376/11490434 [==============================] - 0s 0us/step\n"
          ],
          "name": "stdout"
        }
      ]
    },
    {
      "cell_type": "code",
      "metadata": {
        "id": "q4iRIVqoZhx7",
        "colab_type": "code",
        "colab": {}
      },
      "source": [
        "# print(kNN_classify(6, 'E', train_images, train_labels, test_images[:5]))\n",
        "train_images = np.reshape(train_images, (train_images.shape[0], 28*28))\n",
        "test_images = np.reshape(test_images, (test_images.shape[0], 28 * 28))"
      ],
      "execution_count": 0,
      "outputs": []
    },
    {
      "cell_type": "code",
      "metadata": {
        "id": "l2N--5oMl2LG",
        "colab_type": "code",
        "outputId": "c4bc9073-a867-44da-d4f5-051d6f2bc169",
        "colab": {
          "base_uri": "https://localhost:8080/",
          "height": 34
        }
      },
      "source": [
        "len(test_images)"
      ],
      "execution_count": 0,
      "outputs": [
        {
          "output_type": "execute_result",
          "data": {
            "text/plain": [
              "10000"
            ]
          },
          "metadata": {
            "tags": []
          },
          "execution_count": 6
        }
      ]
    },
    {
      "cell_type": "code",
      "metadata": {
        "id": "B7KAXfaXZhx-",
        "colab_type": "code",
        "outputId": "ff3ae684-0592-4cc9-d651-6d1f6c0a1fc7",
        "colab": {
          "base_uri": "https://localhost:8080/",
          "height": 34
        }
      },
      "source": [
        "# 需要预测的数据集\n",
        "test_index = 10000\n",
        "\n",
        "y_pred = kNN_classify(6, 'E', train_images, train_labels, test_images[:test_index])\n",
        "\n",
        "num_correct = np.sum(test_labels[:test_index] == y_pred)\n",
        "accuracy = float(num_correct / test_index)\n",
        "print(\"befor Normalization, accuracy is {0}\".format(accuracy))"
      ],
      "execution_count": 0,
      "outputs": [
        {
          "output_type": "stream",
          "text": [
            "befor Normalization, accuracy is 0.2868\n"
          ],
          "name": "stdout"
        }
      ]
    },
    {
      "cell_type": "code",
      "metadata": {
        "id": "ncQv7tzKZhyA",
        "colab_type": "code",
        "outputId": "fc8b2a22-8415-4f78-869e-4ee27bd7b2ec",
        "colab": {
          "base_uri": "https://localhost:8080/",
          "height": 34
        }
      },
      "source": [
        "# 数据归一化， 将图片数据收缩到[0,1]之间\n",
        "y_pred = kNN_classify(6, 'E', train_images/255, train_labels, test_images[:test_index]/255)\n",
        "num_correct = np.sum(test_labels[:test_index] == y_pred)\n",
        "accuracy = float(num_correct / test_index)\n",
        "print(\"after Normalization, accuracy is {0}\".format(accuracy))"
      ],
      "execution_count": 0,
      "outputs": [
        {
          "output_type": "stream",
          "text": [
            "after Normalization, accuracy is 0.9709\n"
          ],
          "name": "stdout"
        }
      ]
    },
    {
      "cell_type": "code",
      "metadata": {
        "id": "L7p1lBRiZhyD",
        "colab_type": "code",
        "outputId": "e5068f50-024c-4082-f0f4-07654f3f0610",
        "colab": {
          "base_uri": "https://localhost:8080/",
          "height": 282
        }
      },
      "source": [
        "index = 50\n",
        "print(train_labels[index])\n",
        "plt.imshow(np.reshape(train_images[10], (28, 28)), cmap=plt.cm.binary)\n",
        "plt.show()"
      ],
      "execution_count": 0,
      "outputs": [
        {
          "output_type": "stream",
          "text": [
            "3\n"
          ],
          "name": "stdout"
        },
        {
          "output_type": "display_data",
          "data": {
            "image/png": "[encoded data removed]",
            "text/plain": [
              "<Figure size 432x288 with 1 Axes>"
            ]
          },
          "metadata": {
            "tags": []
          }
        }
      ]
    },
    {
      "cell_type": "code",
      "metadata": {
        "id": "qJzYn1otZhyH",
        "colab_type": "code",
        "outputId": "6ca0ba54-6154-436a-9ca0-92793bb0c495",
        "colab": {
          "base_uri": "https://localhost:8080/",
          "height": 50
        }
      },
      "source": [
        "(train_images, train_labels), (test_images, test_labels) = keras.datasets.cifar10.load_data()"
      ],
      "execution_count": 0,
      "outputs": [
        {
          "output_type": "stream",
          "text": [
            "Downloading data from https://www.cs.toronto.edu/~kriz/cifar-10-python.tar.gz\n",
            "170500096/170498071 [==============================] - 2s 0us/step\n"
          ],
          "name": "stdout"
        }
      ]
    },
    {
      "cell_type": "code",
      "metadata": {
        "id": "3MJZJidWZhyJ",
        "colab_type": "code",
        "colab": {}
      },
      "source": [
        "# normalize\n",
        "train_images = train_images / 255\n",
        "test_images = test_images / 255"
      ],
      "execution_count": 0,
      "outputs": []
    },
    {
      "cell_type": "code",
      "metadata": {
        "id": "dhomrO7BZhyL",
        "colab_type": "code",
        "colab": {}
      },
      "source": [
        "shape = reduce(lambda x,y: x*y, train_images[0].shape)\n",
        "pre_index = 100\n",
        "train_images = np.reshape(train_images, (len(train_images), shape))\n",
        "train_labels = np.reshape(train_labels, len(train_labels))\n",
        "test_labels = np.reshape(test_labels, len(test_labels))\n",
        "test_images = np.reshape(test_images, (len(test_images), shape))\n",
        "\n",
        "pre = kNN_classify(4, 'E', train_images, train_labels, test_images[:pre_index])"
      ],
      "execution_count": 0,
      "outputs": []
    },
    {
      "cell_type": "code",
      "metadata": {
        "id": "SU8d0w7NZhyN",
        "colab_type": "code",
        "outputId": "d38118a8-4c06-421d-bca7-1b14f587a723",
        "colab": {
          "base_uri": "https://localhost:8080/",
          "height": 34
        }
      },
      "source": [
        "accuracy = np.sum(test_labels[:pre_index] == pre) / pre_index\n",
        "print(accuracy)"
      ],
      "execution_count": 0,
      "outputs": [
        {
          "output_type": "stream",
          "text": [
            "0.34\n"
          ],
          "name": "stdout"
        }
      ]
    },
    {
      "cell_type": "code",
      "metadata": {
        "id": "ieMgJUQmZhyQ",
        "colab_type": "code",
        "outputId": "78ca75f7-9604-488c-995f-41cec24a042d",
        "colab": {
          "base_uri": "https://localhost:8080/",
          "height": 34
        }
      },
      "source": [
        "# test_images[:pre_index].shape\n",
        "np.reshape(train_labels, len(train_labels))\n"
      ],
      "execution_count": 0,
      "outputs": [
        {
          "output_type": "execute_result",
          "data": {
            "text/plain": [
              "array([6, 9, 9, ..., 9, 1, 1], dtype=uint8)"
            ]
          },
          "metadata": {
            "tags": []
          },
          "execution_count": 14
        }
      ]
    },
    {
      "cell_type": "code",
      "metadata": {
        "id": "dnJQMRMjZhyS",
        "colab_type": "code",
        "outputId": "f439b33c-dce5-4aa8-a50e-5ffcc1d3fa07",
        "colab": {
          "base_uri": "https://localhost:8080/",
          "height": 34
        }
      },
      "source": [
        "a = (4,2,3)\n",
        "reduce(lambda x,y: x*y, a)"
      ],
      "execution_count": 0,
      "outputs": [
        {
          "output_type": "execute_result",
          "data": {
            "text/plain": [
              "24"
            ]
          },
          "metadata": {
            "tags": []
          },
          "execution_count": 15
        }
      ]
    }
  ]
}