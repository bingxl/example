{
 "cells": [
  {
   "cell_type": "markdown",
   "metadata": {},
   "source": [
    "KNN K-最近邻算法，在前K个最近样本中选择最近的占比最高的类别作为预测类别。\n",
    "计算逻辑：\n",
    "1. 给定测定对象，计算它与训练集中每个对象的距离；\n",
    "2. 圈定距离最近的k个训练对象，作为测试对象的邻居；\n",
    "3. 根据k个近邻对象所属的类别找到占比最高的哪个类别作为测试对象的测试类别；\n",
    "\n",
    "准确度影响因素：距离的计算和K值的选择\n",
    "\n"
   ]
  },
  {
   "cell_type": "code",
   "execution_count": 1,
   "metadata": {},
   "outputs": [],
   "source": [
    "import numpy as np\n",
    "import matplotlib.pyplot as plt\n",
    "import tensorflow as tf\n",
    "from tensorflow import keras\n",
    "import operator\n",
    "%matplotlib inline"
   ]
  },
  {
   "cell_type": "code",
   "execution_count": 2,
   "metadata": {},
   "outputs": [
    {
     "data": {
      "image/png": "[encoded data removed]",
      "text/plain": [
       "<Figure size 432x288 with 1 Axes>"
      ]
     },
     "metadata": {
      "needs_background": "light"
     },
     "output_type": "display_data"
    }
   ],
   "source": [
    "def createDataSet():\n",
    "    group = np.array([[1.0,2.0],[1.2,0.1],[0.1,1.4],[0.3,3.5],[1.1,1.0],[0.5,1.5]])\n",
    "    labels = np.array(['A','A','B','B','A','B'])\n",
    "    return group, labels\n",
    "\n",
    "group, labels = createDataSet()\n",
    "plt.scatter(group[labels=='A', 0], group[labels=='A', 1], color='r', marker='*')\n",
    "plt.scatter(group[labels=='B', 0], group[labels=='B', 1], color='g', marker='+')\n",
    "plt.show()"
   ]
  },
  {
   "cell_type": "code",
   "execution_count": 24,
   "metadata": {},
   "outputs": [],
   "source": [
    "def kNN_classify(k, dis, X_train, x_train, Y_test):\n",
    "    assert dis == 'E' or dis == 'M', 'dis must E or M, E 欧式距离， M曼哈顿距离'\n",
    "    num_test = Y_test.shape[0]\n",
    "    \n",
    "    labellist = []\n",
    "    for i in range(num_test):\n",
    "        distances = []\n",
    "        if dis == 'E':\n",
    "            # 欧式距离\n",
    "            distances = np.sqrt(np.sum(((X_train - np.tile(Y_test[i], (X_train.shape[0],1))) ** 2), axis=1))\n",
    "        else:\n",
    "            # 曼哈顿距离\n",
    "            distances = np.sum(np.absolute(X_train - np.tile(Y_test[i], (X_train.shape[0],1))), axis=1)\n",
    "        \n",
    "        nearest_k = np.argsort(distances)\n",
    "        topK = nearest_k[:k]\n",
    "        classCount = {}\n",
    "        for i in topK:\n",
    "            classCount[x_train[i]] = classCount.get(x_train[i], 0) + 1\n",
    "            pass\n",
    "        sortedClassCount = sorted(classCount.items(), key=operator.itemgetter(1), reverse=True)\n",
    "        labellist.append(sortedClassCount[0][0])\n",
    "        pass\n",
    "    return np.array(labellist)\n",
    "    \n",
    " \n",
    "            "
   ]
  },
  {
   "cell_type": "code",
   "execution_count": 4,
   "metadata": {},
   "outputs": [
    {
     "name": "stdout",
     "output_type": "stream",
     "text": [
      "[0.1        2.00997512 1.14017543 1.56524758 1.1045361  0.78102497]\n",
      "[0.9        2.19544984 0.6        1.5132746  1.41421356 0.64031242]\n",
      "['A' 'B']\n",
      "[0.1 2.2 1.6 2.1 1.2 1.1]\n",
      "[0.9 3.  0.6 1.7 2.  0.9]\n",
      "['A' 'B']\n"
     ]
    }
   ],
   "source": [
    "y = np.array([[1.0, 2.1], [0.1, 2.0]])\n",
    "print(kNN_classify(1, 'E', group, labels, y))\n",
    "print(kNN_classify(1, 'M', group, labels, y))\n"
   ]
  },
  {
   "cell_type": "code",
   "execution_count": 6,
   "metadata": {},
   "outputs": [],
   "source": [
    "mnist = keras.datasets.mnist\n",
    "\n",
    "(train_images, train_labels), (test_images, test_labels) = mnist.load_data()"
   ]
  },
  {
   "cell_type": "code",
   "execution_count": 22,
   "metadata": {},
   "outputs": [],
   "source": [
    "# print(kNN_classify(6, 'E', train_images, train_labels, test_images[:5]))\n",
    "train_images = np.reshape(train_images, (train_images.shape[0], 28*28))\n",
    "test_images = np.reshape(test_images, (test_images.shape[0], 28 * 28))"
   ]
  },
  {
   "cell_type": "code",
   "execution_count": 37,
   "metadata": {},
   "outputs": [
    {
     "name": "stdout",
     "output_type": "stream",
     "text": [
      "befor Normalization, accuracy is 0.29\n"
     ]
    }
   ],
   "source": [
    "# 需要预测的数据集\n",
    "test_index = 200\n",
    "\n",
    "y_pred = kNN_classify(6, 'E', train_images, train_labels, test_images[:test_index])\n",
    "\n",
    "num_correct = np.sum(test_labels[:test_index] == y_pred)\n",
    "accuracy = float(num_correct / test_index)\n",
    "print(\"befor Normalization, accuracy is {0}\".format(accuracy))"
   ]
  },
  {
   "cell_type": "code",
   "execution_count": 38,
   "metadata": {},
   "outputs": [
    {
     "name": "stdout",
     "output_type": "stream",
     "text": [
      "after Normalization, accuracy is 0.99\n"
     ]
    }
   ],
   "source": [
    "# 数据归一化， 将图片数据收缩到[0,1]之间\n",
    "y_pred = kNN_classify(6, 'E', train_images/255, train_labels, test_images[:test_index]/255)\n",
    "num_correct = np.sum(test_labels[:test_index] == y_pred)\n",
    "accuracy = float(num_correct / test_index)\n",
    "print(\"after Normalization, accuracy is {0}\".format(accuracy))"
   ]
  },
  {
   "cell_type": "code",
   "execution_count": 31,
   "metadata": {},
   "outputs": [
    {
     "name": "stdout",
     "output_type": "stream",
     "text": [
      "3\n"
     ]
    },
    {
     "data": {
      "image/png": "[encoded data removed]",
      "text/plain": [
       "<Figure size 432x288 with 1 Axes>"
      ]
     },
     "metadata": {
      "needs_background": "light"
     },
     "output_type": "display_data"
    }
   ],
   "source": [
    "index = 50\n",
    "print(train_labels[index])\n",
    "plt.imshow(np.reshape(train_images[index], (28, 28)), cmap=plt.cm.binary)\n",
    "plt.show()"
   ]
  }
 ],
 "metadata": {
  "file_extension": ".py",
  "kernelspec": {
   "display_name": "Python 3",
   "language": "python",
   "name": "python3"
  },
  "language_info": {
   "codemirror_mode": {
    "name": "ipython",
    "version": 3
   },
   "file_extension": ".py",
   "mimetype": "text/x-python",
   "name": "python",
   "nbconvert_exporter": "python",
   "pygments_lexer": "ipython3",
   "version": "3.7.0"
  },
  "mimetype": "text/x-python",
  "name": "python",
  "npconvert_exporter": "python",
  "pygments_lexer": "ipython3",
  "version": 3
 },
 "nbformat": 4,
 "nbformat_minor": 2
}