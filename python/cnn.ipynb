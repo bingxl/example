{
 "nbformat": 4,
 "nbformat_minor": 2,
 "metadata": {
  "language_info": {
   "name": "python",
   "codemirror_mode": {
    "name": "ipython",
    "version": 3
   },
   "version": "3.7.0-final"
  },
  "orig_nbformat": 2,
  "file_extension": ".py",
  "mimetype": "text/x-python",
  "name": "python",
  "npconvert_exporter": "python",
  "pygments_lexer": "ipython3",
  "version": 3,
  "kernelspec": {
   "name": "python37064bit768efe16ff7b40448d6b4e5fef740258",
   "display_name": "Python 3.7.0 64-bit"
  }
 },
 "cells": [
  {
   "cell_type": "markdown",
   "metadata": {},
   "source": [
    "CNN 发展 Lenet(1998) -> AlexNet(2012) -> VGGNet(2014) -> InceptionNet(2014) -> ResNet(2015)"
   ]
  },
  {
   "cell_type": "code",
   "execution_count": 1,
   "metadata": {},
   "outputs": [],
   "source": [
    "try:\n",
    "    %tensorflow 2.x\n",
    "except:\n",
    "    pass\n",
    "\n",
    "import tensorflow as tf\n",
    "from tensorflow.keras.layers import Conv2D, BatchNormalization, Activation, MaxPool2D, Flatten, Dense, Dropout"
   ]
  },
  {
   "cell_type": "code",
   "execution_count": 9,
   "metadata": {},
   "outputs": [],
   "source": [
    "(x_train, y_train), (x_test, y_test) = tf.keras.datasets.cifar10.load_data()\n",
    "x_train, x_test = x_train / 255.0, x_test / 255.0"
   ]
  },
  {
   "cell_type": "code",
   "execution_count": 7,
   "metadata": {},
   "outputs": [],
   "source": [
    "def leNet():\n",
    "    # leNet最初始的卷积神经网络\n",
    "    # LeNet还没有dropout， 激活函数常用sigmoid\n",
    "    layers = tf.keras.layers\n",
    "    input_layer = tf.keras.layers.InputLayer(input_shape=(32, 32, 3))\n",
    "    model = tf.keras.Sequential([\n",
    "        input_layer,\n",
    "        layers.Conv2D(filters=6, strides=1, kernel_size=(5, 5), padding='valid', activation='sigmoid'),\n",
    "        layers.MaxPool2D(pool_size=(2, 2), strides=2, padding='valid'),\n",
    "\n",
    "        layers.Conv2D(filters=16, kernel_size=(5, 5), strides=1, padding='valid', activation='sigmoid'),\n",
    "        layers.MaxPool2D(pool_size=(2, 2), strides=2, padding='valid'),\n",
    "\n",
    "        layers.Flatten(),\n",
    "        layers.Dense(120, activation='sigmoid'),\n",
    "        layers.Dense(84, activation='sigmoid'),\n",
    "        layers.Dense(10, activation='softmax')\n",
    "    ])\n",
    "    return model\n",
    "    "
   ]
  },
  {
   "cell_type": "code",
   "execution_count": 10,
   "metadata": {},
   "outputs": [
    {
     "output_type": "stream",
     "name": "stdout",
     "text": "Model: \"sequential_1\"\n_________________________________________________________________\nLayer (type)                 Output Shape              Param #   \n=================================================================\nconv2d_3 (Conv2D)            (None, 28, 28, 6)         456       \n_________________________________________________________________\nmax_pooling2d_2 (MaxPooling2 (None, 14, 14, 6)         0         \n_________________________________________________________________\nconv2d_4 (Conv2D)            (None, 10, 10, 16)        2416      \n_________________________________________________________________\nmax_pooling2d_3 (MaxPooling2 (None, 5, 5, 16)          0         \n_________________________________________________________________\nflatten_1 (Flatten)          (None, 400)               0         \n_________________________________________________________________\ndense_3 (Dense)              (None, 120)               48120     \n_________________________________________________________________\ndense_4 (Dense)              (None, 84)                10164     \n_________________________________________________________________\ndense_5 (Dense)              (None, 10)                850       \n=================================================================\nTotal params: 62,006\nTrainable params: 62,006\nNon-trainable params: 0\n_________________________________________________________________\nTrain on 50000 samples, validate on 10000 samples\nEpoch 1/4\n50000/50000 [==============================] - 14s 277us/sample - loss: 2.0494 - sparse_categorical_accuracy: 0.2309 - val_loss: 1.8608 - val_sparse_categorical_accuracy: 0.3232\nEpoch 2/4\n50000/50000 [==============================] - 6s 117us/sample - loss: 1.7684 - sparse_categorical_accuracy: 0.3528 - val_loss: 1.6703 - val_sparse_categorical_accuracy: 0.3885\nEpoch 3/4\n50000/50000 [==============================] - 6s 116us/sample - loss: 1.6378 - sparse_categorical_accuracy: 0.4021 - val_loss: 1.5671 - val_sparse_categorical_accuracy: 0.4266\nEpoch 4/4\n50000/50000 [==============================] - 6s 115us/sample - loss: 1.5531 - sparse_categorical_accuracy: 0.4322 - val_loss: 1.4999 - val_sparse_categorical_accuracy: 0.4567\n"
    },
    {
     "output_type": "execute_result",
     "data": {
      "text/plain": "<tensorflow.python.keras.callbacks.History at 0x215cce5ca58>"
     },
     "metadata": {},
     "execution_count": 10
    }
   ],
   "source": [
    "model = leNet()\n",
    "model.summary()\n",
    "model.compile(\n",
    "    optimizer='adam',\n",
    "    loss=tf.keras.losses.SparseCategoricalCrossentropy(from_logits=False),\n",
    "    metrics=['sparse_categorical_accuracy']\n",
    ")\n",
    "model.fit(x_train, y_train, epochs=4, validation_data=(x_test, y_test))"
   ]
  },
  {
   "cell_type": "code",
   "execution_count": null,
   "metadata": {},
   "outputs": [],
   "source": []
  }
 ]
}