{
 "nbformat": 4,
 "nbformat_minor": 2,
 "metadata": {
  "language_info": {
   "name": "python",
   "codemirror_mode": {
    "name": "ipython",
    "version": 3
   },
   "version": "3.7.0-final"
  },
  "orig_nbformat": 2,
  "file_extension": ".py",
  "mimetype": "text/x-python",
  "name": "python",
  "npconvert_exporter": "python",
  "pygments_lexer": "ipython3",
  "version": 3,
  "kernelspec": {
   "name": "python37064bit768efe16ff7b40448d6b4e5fef740258",
   "display_name": "Python 3.7.0 64-bit"
  }
 },
 "cells": [
  {
   "cell_type": "code",
   "execution_count": 2,
   "metadata": {},
   "outputs": [
    {
     "output_type": "stream",
     "name": "stdout",
     "text": "2.1.0\n"
    }
   ],
   "source": [
    "import tensorflow as tf\n",
    "from tensorflow.keras import layers, datasets, models\n",
    "print(tf.__version__)"
   ]
  },
  {
   "cell_type": "code",
   "execution_count": 3,
   "metadata": {},
   "outputs": [],
   "source": [
    "mnist = datasets.mnist\n",
    "(trains, labels), (tests, test_labels) = mnist.load_data()\n",
    "\n",
    "# 数据归一化处理\n",
    "trains, tests = trains / 255.0, tests / 255.0\n",
    "model = models.Sequential([\n",
    "    layers.Flatten(input_shape=(trains.shape[1], trains.shape[2])),\n",
    "    layers.Dense(128, activation='relu'),\n",
    "    layers.Dropout(0.2),\n",
    "    layers.Dense(10, activation='softmax')\n",
    "])\n",
    "\n",
    "model.compile(\n",
    "    optimizer='adam',\n",
    "    loss='sparse_categorical_crossentropy',\n",
    "    metrics=['accuracy']\n",
    ")\n",
    "\n",
    ""
   ]
  },
  {
   "cell_type": "code",
   "execution_count": 4,
   "metadata": {},
   "outputs": [
    {
     "output_type": "stream",
     "name": "stdout",
     "text": "Train on 60000 samples\nEpoch 1/5\n60000/60000 [==============================] - 4s 63us/sample - loss: 0.2960 - accuracy: 0.9141\nEpoch 2/5\n60000/60000 [==============================] - 3s 44us/sample - loss: 0.1448 - accuracy: 0.9570\nEpoch 3/5\n60000/60000 [==============================] - 3s 46us/sample - loss: 0.1083 - accuracy: 0.9674\nEpoch 4/5\n60000/60000 [==============================] - 3s 44us/sample - loss: 0.0903 - accuracy: 0.9723\nEpoch 5/5\n60000/60000 [==============================] - 3s 46us/sample - loss: 0.0758 - accuracy: 0.9764\n10000/10000 - 0s - loss: 0.0754 - accuracy: 0.9774\n"
    },
    {
     "output_type": "execute_result",
     "data": {
      "text/plain": "[0.07539309669216164, 0.9774]"
     },
     "metadata": {},
     "execution_count": 4
    }
   ],
   "source": [
    "# 训练模型\n",
    "model.fit(trains, labels, epochs=5)\n",
    "# 用测试机做评估\n",
    "model.evaluate(tests, test_labels, verbose=2)"
   ]
  }
 ]
}