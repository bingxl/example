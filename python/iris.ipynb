{
 "nbformat": 4,
 "nbformat_minor": 2,
 "metadata": {
  "language_info": {
   "name": "python",
   "codemirror_mode": {
    "name": "ipython",
    "version": 3
   },
   "version": "3.7.0-final"
  },
  "orig_nbformat": 2,
  "file_extension": ".py",
  "mimetype": "text/x-python",
  "name": "python",
  "npconvert_exporter": "python",
  "pygments_lexer": "ipython3",
  "version": 3,
  "kernelspec": {
   "name": "python37064bit768efe16ff7b40448d6b4e5fef740258",
   "display_name": "Python 3.7.0 64-bit"
  }
 },
 "cells": [
  {
   "cell_type": "code",
   "execution_count": 3,
   "metadata": {},
   "outputs": [],
   "source": [
    "import tensorflow as tf\n",
    "import pandas as pd\n",
    "import matplotlib.pyplot as plt\n",
    "from sklearn import datasets\n",
    "import numpy as np"
   ]
  },
  {
   "cell_type": "code",
   "execution_count": 9,
   "metadata": {},
   "outputs": [],
   "source": [
    "data = datasets.load_iris()\n",
    "x_data = data.data\n",
    "y_data = data.target\n",
    "\n",
    "np.random.seed(116)\n",
    "np.random.shuffle(x_data)\n",
    "np.random.shuffle(y_data)\n",
    "\n",
    "x_train = x_data[:-30]\n",
    "y_train = y_data[:-30]\n",
    "x_test = x_data[-30:]\n",
    "y_test = y_data[-30:]\n",
    "\n",
    "train_ds = tf.data.Dataset.from_tensor_slices((x_train, y_train)).batch(32)\n",
    "test_ds = tf.data.Dataset.from_tensor_slices((x_test, y_test)).batch(32)\n",
    "\n",
    "w1 = tf.Variable(tf.random.truncated_normal([4,3], stddev=0.1, seed=1), dtype=tf.float32)\n",
    "b1 = tf.Variable(tf.random.truncated_normal([3], stddev=0.1, seed=1), dtype=tf.float32)"
   ]
  },
  {
   "cell_type": "code",
   "execution_count": 6,
   "metadata": {},
   "outputs": [],
   "source": [
    "lr = 0.1\n",
    "train_loss_results = []\n",
    "test_acc = []\n",
    "epoch = 500\n",
    "loss_all = 0"
   ]
  },
  {
   "cell_type": "code",
   "execution_count": 11,
   "metadata": {},
   "outputs": [],
   "source": [
    "for epoch in range(epoch):\n",
    "    for step, (x_train, y_train) in enumerate(train_ds):\n",
    "        with tf.GradientTape() as tape:\n",
    "            y = tf.matmul(x_train, w1) + b1\n",
    "            y = tf.nn.softmax(y)\n",
    "            y_ = tf.one_hot(y_train, depth=3)\n",
    "            loss = tf.reduce_mean(tf.math.square(y_ - y))\n",
    "            loss_all += loss.numpy()\n",
    "\n",
    "            grads = tape.gradient(loss, [w1, b1])\n",
    "\n",
    "            w1.assign_sub(lr * grads[0])\n",
    "            b1.assign_sub(lr * grads[1])\n",
    "            pass\n",
    "    \n",
    "    print(f'Epoch {epoch}, loss{loss_all / 4.0}')\n",
    "    train_loss_results.append(loss_all/4.0)\n",
    "\n",
    "    # 测试部分\n",
    "    total_correct, total_number = 0, 0\n",
    "    for x_test, y_test in test_ds:\n",
    "        y = tf.matmul(x_test, w1) + b1\n",
    "        y = tf.math.softmax(y)\n",
    "        pred = tf.math.argmax(y, axis = 1)\n",
    "        pred = tf.cast(pred, dtype=y_test.dtype)\n",
    "        correct = tf.cast(tf.math.equal(pred, y_test), dtype=tf.int32)\n",
    "        correct = tf.math.reduce_sum(correct)\n",
    "        total_correct += int(currect)\n",
    "        total_number += x_test.shape[0]\n",
    "        pass\n",
    "    \n",
    "    acc = total_correct / total_number\n",
    "    test_acc.append(acc)\n",
    "    print(f'Test_acc: {acc}')\n",
    "    print('-----------------')\n",
    "\n",
    ""
   ]
  },
  {
   "cell_type": "code",
   "execution_count": null,
   "metadata": {},
   "outputs": [],
   "source": []
  }
 ]
}